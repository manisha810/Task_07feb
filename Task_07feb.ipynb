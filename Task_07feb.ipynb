{
 "cells": [
  {
   "cell_type": "markdown",
   "id": "0bb4e805-4c10-4386-8e22-e5a4a03b8214",
   "metadata": {},
   "source": [
    "You are writing code for a company. The requirement of the company is that you create a python\n",
    "function that will check whether the password entered by the user is correct or not. The function should\n",
    "take the password as input and return the string “Valid Password” if the entered password follows the\n",
    "below-given password guidelines else it should return “Invalid Password”.\n",
    "\n",
    "Note: 1. The Password should contain at least two uppercase letters and at least two lowercase letters.\n",
    "2. The Password should contain at least a number and three special characters.\n",
    "3. The length of the password should be 10 characters long."
   ]
  },
  {
   "cell_type": "code",
   "execution_count": null,
   "id": "6ffe73da-1678-433b-a09c-7398852bf4e2",
   "metadata": {},
   "outputs": [],
   "source": [
    "def password(paswd):\n",
    "    \n",
    "    SpecialSym = ['@', '#', '$', '%', '=', ':', '?', '.', '/', '|', '~', '>','*', '(', ')', '<']\n",
    "    val = True\n",
    "    \n",
    "    \n",
    "    if len(paswd) > 10:\n",
    "        print(\"length should be not be greater than 10\")\n",
    "    if len(paswd)<10 :\n",
    "        print(\"length should be 10\")\n",
    "        \n",
    "    if not any(char.isdigit() for char in paswd):\n",
    "        print('Password should have at least two numeral')\n",
    "        val = False\n",
    "         \n",
    "    if not any(char.isupper() for char in paswd):\n",
    "        print('Password should have at least two uppercase letter')\n",
    "        val = False\n",
    "         \n",
    "    if not any(char.islower() for char in paswd):\n",
    "        print('Password should have at least two lowercase letter')\n",
    "        val = False\n",
    "         \n",
    "    if not any(char in SpecialSym for char in paswd):\n",
    "        print('Password should have at least two of the symbols')\n",
    "        val = False\n",
    "    if val:\n",
    "        return val\n",
    "    \n",
    "def main():\n",
    "    \n",
    "    paswd = input(\"Enter password:\")\n",
    "     \n",
    "    if (password(paswd)):\n",
    "        print(\"Password is valid\")\n",
    "    else:\n",
    "        print(\"Invalid Password !!\")\n",
    "        \n",
    "if __name__ == '__main__':\n",
    "    main()"
   ]
  },
  {
   "cell_type": "markdown",
   "id": "1f629ef1-0d92-44f6-9186-3eba3c89ca12",
   "metadata": {},
   "source": [
    "Q2. Solve the below-given questions using at least one of the following:\n",
    "1. Lambda function\n",
    "2. Filter function\n",
    "3. Zap function\n",
    "4. List Comprehension"
   ]
  },
  {
   "cell_type": "markdown",
   "id": "b50bb9f6-ce7a-4a15-8003-55cf2cc6289c",
   "metadata": {},
   "source": [
    "# Check if the string starts with a particular letter."
   ]
  },
  {
   "cell_type": "code",
   "execution_count": null,
   "id": "128f48a5-9750-476a-87d5-132759915c55",
   "metadata": {},
   "outputs": [],
   "source": [
    "string  = \"manisha\"\n",
    "x= string[0]\n",
    "checked = lambda x : \"yes\" if x == 's' else \"no\"\n",
    "print(checked (x))"
   ]
  },
  {
   "cell_type": "markdown",
   "id": "c55196d8-3d03-495d-ac59-958d460540c8",
   "metadata": {},
   "source": [
    "# Check if the string is numeric."
   ]
  },
  {
   "cell_type": "code",
   "execution_count": null,
   "id": "fce8f319-cdde-486a-84c9-c24df057c5b5",
   "metadata": {},
   "outputs": [],
   "source": [
    "x = \"83947\"\n",
    "print(type(x))\n",
    "checked = lambda x : \"yes\" if x.isnumeric()==True else \"no\"\n",
    "print(checked(x))"
   ]
  },
  {
   "cell_type": "markdown",
   "id": "b31cb29f-740d-4a2f-aeef-28b81156f908",
   "metadata": {},
   "source": [
    "# Sort a list of tuples having fruit names and their quantity. [(\"mango\",99),(\"orange\",80), (\"grapes\", 1000)]"
   ]
  },
  {
   "cell_type": "code",
   "execution_count": null,
   "id": "dc5decea-9a57-4d64-8804-95cc383de3ec",
   "metadata": {},
   "outputs": [],
   "source": [
    "l = [(\"mango\",99),(\"orange\",80), (\"grapes\", 1000)]\n",
    "l.sort(key =lambda x : x[1])\n",
    "print(l)"
   ]
  },
  {
   "cell_type": "markdown",
   "id": "6e7b5296-7f33-435c-b08c-e66c6c63ee29",
   "metadata": {},
   "source": [
    "# Find the squares of numbers from 1 to 10."
   ]
  },
  {
   "cell_type": "code",
   "execution_count": null,
   "id": "0a392b62-60b0-4d4d-bdcd-962e3efcdd73",
   "metadata": {},
   "outputs": [],
   "source": [
    "l = []\n",
    "for i  in range(1,11):\n",
    "    l.append(i)\n",
    "    sq = list(map(lambda x :x**2,l))\n",
    "print(sq)"
   ]
  },
  {
   "cell_type": "markdown",
   "id": "30b4ea7d-40aa-490a-9315-3feff626a0e0",
   "metadata": {},
   "source": [
    "# Find the cube root of numbers from 1 to 10."
   ]
  },
  {
   "cell_type": "code",
   "execution_count": null,
   "id": "465dc74d-1854-4fc6-866d-a770545da182",
   "metadata": {},
   "outputs": [],
   "source": [
    "l = []\n",
    "for i  in range(1,11):\n",
    "    l.append(i)\n",
    "    cube_root = list(map(lambda x :x ** (1/ 3)*(1),l))\n",
    "print(cube_root)"
   ]
  },
  {
   "cell_type": "markdown",
   "id": "0af3e47f-8437-454c-bed6-8ad56ac4691b",
   "metadata": {},
   "source": [
    "# Check if a given number is even."
   ]
  },
  {
   "cell_type": "code",
   "execution_count": null,
   "id": "f5b77189-13be-4d75-86a2-041b936fda8b",
   "metadata": {},
   "outputs": [],
   "source": [
    "l = [2,4,76,876,55,5,56,3,5465,213255476,565765,32,25435]\n",
    "list(filter(lambda x : x%2==0 , l))"
   ]
  },
  {
   "cell_type": "markdown",
   "id": "6c3fa377-8cc4-43be-a7c3-5a2de7da91f7",
   "metadata": {},
   "source": [
    "# Filter odd numbers from the given list. [1,2,3,4,5,6,7,8,9,10]"
   ]
  },
  {
   "cell_type": "code",
   "execution_count": null,
   "id": "e1d7d6f3-101c-412d-b748-2af612b9e2c6",
   "metadata": {},
   "outputs": [],
   "source": [
    "l =[1,2,3,4,5,6,7,8,9,10]\n",
    "list(filter(lambda x : x%2!=0, l))"
   ]
  },
  {
   "cell_type": "markdown",
   "id": "cbaca354-5d45-43dd-834a-0cb20968801d",
   "metadata": {},
   "source": [
    "# Sort a list of integers into positive and negative integers lists. [1,2,3,4,5,6,-1,-2,-3,-4,-5,0]"
   ]
  },
  {
   "cell_type": "code",
   "execution_count": null,
   "id": "2abb7db7-724b-447d-87b0-a50dd585fc3a",
   "metadata": {},
   "outputs": [],
   "source": [
    "l = [1,2,3,4,5,6,-1,-2,-3,-4,-5,0]\n",
    "m = sorted(l, key = lambda x: 0 if x == 0 else -1 / x)\n",
    "print(m)"
   ]
  }
 ],
 "metadata": {
  "kernelspec": {
   "display_name": "Python 3 (ipykernel)",
   "language": "python",
   "name": "python3"
  },
  "language_info": {
   "codemirror_mode": {
    "name": "ipython",
    "version": 3
   },
   "file_extension": ".py",
   "mimetype": "text/x-python",
   "name": "python",
   "nbconvert_exporter": "python",
   "pygments_lexer": "ipython3",
   "version": "3.10.8"
  }
 },
 "nbformat": 4,
 "nbformat_minor": 5
}
